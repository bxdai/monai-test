{
 "cells": [
  {
   "cell_type": "code",
   "execution_count": 45,
   "source": [
    "import monai.transforms as MT\n",
    "from monai.transforms import (\n",
    "    AddChanneld,\n",
    "    LoadImage,\n",
    "    LoadImaged,\n",
    "    Orientationd,\n",
    "    Rand3DElasticd,\n",
    "    RandAffined,\n",
    "    Spacingd,\n",
    "    NormalizeIntensityd,\n",
    "    EnsureChannelFirstd,\n",
    "    AsChannelFirstd,\n",
    "    AsChannelLastd,\n",
    "\n",
    "    ScaleIntensityRanged,\n",
    "    ScaleIntensityd\n",
    ")\n",
    "from monai.config import print_config\n",
    "from monai.apps import download_and_extract\n",
    "import numpy as np\n",
    "import matplotlib.pyplot as plt\n",
    "import tempfile\n",
    "import shutil\n",
    "import os\n",
    "import glob"
   ],
   "outputs": [],
   "metadata": {}
  },
  {
   "cell_type": "markdown",
   "source": [
    "## LoadImaged\n",
    "## Orientationd\n",
    "$$ Spacingd\n"
   ],
   "metadata": {}
  },
  {
   "cell_type": "markdown",
   "source": [
    "## 普通变换和字典变换的联系与区别\n",
    "* 普通变换又可以说是基于数组的变换：image和label是以数组形式给到Dataset。字典变换是基于字典的变换（image和label是一个字典对)。\n",
    "* 普通变换和字典变换的功能是一样的，只是字典变换在每个transform后面都加了一个\"d\", 也可以写成”D“。如LoadImage/LoadImaged, Resize/Resized\n",
    "* 使用字典变换时，必须指明该变换是对image做，还是label做。如，LoadImaged（keys='image'）,表明只加载image"
   ],
   "metadata": {}
  },
  {
   "cell_type": "code",
   "execution_count": 46,
   "source": [
    "directory = os.environ.get(\"MONAI_DATA_DIRECTORY\")\n",
    "root_dir = tempfile.mkdtemp() if directory is None else directory\n",
    "print(f\"root dir is: {root_dir}\")\n",
    "data_dir = os.path.join(root_dir,\"Task09_Spleen\")\n",
    "print(f\"data dir is:{data_dir}\")"
   ],
   "outputs": [
    {
     "output_type": "stream",
     "name": "stdout",
     "text": [
      "root dir is: /home/xindong/project/data\n",
      "data dir is:/home/xindong/project/data/Task09_Spleen\n"
     ]
    }
   ],
   "metadata": {}
  },
  {
   "cell_type": "code",
   "execution_count": 47,
   "source": [
    "train_images = sorted(\n",
    "    glob.glob(os.path.join(data_dir, \"imagesTr\", \"*.nii.gz\")))\n",
    "train_labels = sorted(\n",
    "    glob.glob(os.path.join(data_dir, \"labelsTr\", \"*.nii.gz\")))\n",
    "data_dicts = [\n",
    "    {\"image\": image_name, \"label\": label_name}\n",
    "    for image_name, label_name in zip(train_images[:4], train_labels[:4])\n",
    "]\n",
    "train_data_dicts, val_data_dicts = data_dicts[:2], data_dicts[-2:]"
   ],
   "outputs": [],
   "metadata": {}
  },
  {
   "cell_type": "code",
   "execution_count": 48,
   "source": [
    "for tdata,vdata in train_data_dicts,val_data_dicts:\n",
    "    print(tdata)\n",
    "    print(vdata)"
   ],
   "outputs": [
    {
     "output_type": "stream",
     "name": "stdout",
     "text": [
      "{'image': '/home/xindong/project/data/Task09_Spleen/imagesTr/spleen_10.nii.gz', 'label': '/home/xindong/project/data/Task09_Spleen/labelsTr/spleen_10.nii.gz'}\n",
      "{'image': '/home/xindong/project/data/Task09_Spleen/imagesTr/spleen_12.nii.gz', 'label': '/home/xindong/project/data/Task09_Spleen/labelsTr/spleen_12.nii.gz'}\n",
      "{'image': '/home/xindong/project/data/Task09_Spleen/imagesTr/spleen_13.nii.gz', 'label': '/home/xindong/project/data/Task09_Spleen/labelsTr/spleen_13.nii.gz'}\n",
      "{'image': '/home/xindong/project/data/Task09_Spleen/imagesTr/spleen_14.nii.gz', 'label': '/home/xindong/project/data/Task09_Spleen/labelsTr/spleen_14.nii.gz'}\n"
     ]
    }
   ],
   "metadata": {}
  },
  {
   "cell_type": "markdown",
   "source": [
    "## 加载NIfTI 格式的文件[LoadImage/ LoadImaged]\n",
    "\n",
    "MONAI的一个设计选择是，它不仅提供高级工作流组件，而且以最小的功能形式提供相对较低级别的api。\n",
    "\n",
    "LoadImage类是底层Nibabel映像加载器的简单可调用包装器在使用一些必要的系统参数构造加载程序之后，使用NIfTI文件名调用加载程序实例将返回图像数据数组以及元数据，\n",
    "\n",
    "例如仿射信息和体素大小。简单说就是，如果是nii.gz格式的文件，调用LoadImage，它会自动调用Nibabel来打开数据。在python中，nii.gz一般都是通过Nibabel来打开的。\n",
    "\n",
    "LoadImage/ LoadImaged在使用时会有细小的差别，通过举例来说明。\n",
    "\n",
    "### 注意注意\n",
    "\n",
    "如果这些变换不是在Compose里面进行组合使用，单独调用时都是需要先实例化的"
   ],
   "metadata": {}
  },
  {
   "cell_type": "code",
   "execution_count": 49,
   "source": [
    "loader = LoadImaged(keys=(\"image\", \"label\"))  \n",
    "data_dict = loader(train_data_dicts[0])\n",
    "print(f\"image shape: {data_dict['image'].shape}\")\n",
    "print(f\"label shape: {data_dict['label'].shape}\")\n",
    "print(\"max pixel val:{}\".format(data_dict[\"image\"].max()))\n",
    "print(\"min pixel val:{}\".format(data_dict[\"image\"].min()))\n",
    "print(f\"image pixdim:\\n{data_dict['image_meta_dict']['pixdim'][2]}\")\n",
    "print(f\"image dim:\\n{data_dict['image_meta_dict']['dim']}\")\n",
    "print(f\"data_dict keys:{data_dict.keys()}\")\n",
    "print(f\"data_dict img_meta_dict :{data_dict['image_meta_dict'].keys()}\\n\")\n",
    "print(f\"data_dict img_meta_dict :{data_dict['image_meta_dict'].values()}\\n\")"
   ],
   "outputs": [
    {
     "output_type": "stream",
     "name": "stdout",
     "text": [
      "image shape: (512, 512, 55)\n",
      "label shape: (512, 512, 55)\n",
      "max pixel val:3072.0\n",
      "min pixel val:-1024.0\n",
      "image pixdim:\n",
      "0.9765620231628418\n",
      "image dim:\n",
      "[  3 512 512  55   1   1   1   1]\n",
      "data_dict keys:dict_keys(['image', 'label', 'image_meta_dict', 'label_meta_dict'])\n",
      "data_dict img_meta_dict :dict_keys(['sizeof_hdr', 'extents', 'session_error', 'dim_info', 'dim', 'intent_p1', 'intent_p2', 'intent_p3', 'intent_code', 'datatype', 'bitpix', 'slice_start', 'pixdim', 'vox_offset', 'scl_slope', 'scl_inter', 'slice_end', 'slice_code', 'xyzt_units', 'cal_max', 'cal_min', 'slice_duration', 'toffset', 'glmax', 'glmin', 'qform_code', 'sform_code', 'quatern_b', 'quatern_c', 'quatern_d', 'qoffset_x', 'qoffset_y', 'qoffset_z', 'srow_x', 'srow_y', 'srow_z', 'affine', 'original_affine', 'as_closest_canonical', 'spatial_shape', 'original_channel_dim', 'filename_or_obj'])\n",
      "\n",
      "data_dict img_meta_dict :dict_values([array(348, dtype=int32), array(0, dtype=int32), array(0, dtype=int16), array(0, dtype=uint8), array([  3, 512, 512,  55,   1,   1,   1,   1], dtype=int16), array(0., dtype=float32), array(0., dtype=float32), array(0., dtype=float32), array(0, dtype=int16), array(16, dtype=int16), array(32, dtype=int16), array(0, dtype=int16), array([1.      , 0.976562, 0.976562, 5.      , 0.      , 0.      ,\n",
      "       0.      , 0.      ], dtype=float32), array(0., dtype=float32), array(nan, dtype=float32), array(nan, dtype=float32), array(0, dtype=int16), array(0, dtype=uint8), array(10, dtype=uint8), array(0., dtype=float32), array(0., dtype=float32), array(0., dtype=float32), array(0., dtype=float32), array(0, dtype=int32), array(0, dtype=int32), array(1, dtype=int16), array(1, dtype=int16), array(0., dtype=float32), array(0., dtype=float32), array(0., dtype=float32), array(-499.0232, dtype=float32), array(-499.0232, dtype=float32), array(0., dtype=float32), array([   0.976562,    0.      ,    0.      , -499.0232  ], dtype=float32), array([   0.      ,    0.976562,    0.      , -499.0232  ], dtype=float32), array([0., 0., 5., 0.], dtype=float32), array([[   0.97656202,    0.        ,    0.        , -499.02319336],\n",
      "       [   0.        ,    0.97656202,    0.        , -499.02319336],\n",
      "       [   0.        ,    0.        ,    5.        ,    0.        ],\n",
      "       [   0.        ,    0.        ,    0.        ,    1.        ]]), array([[   0.97656202,    0.        ,    0.        , -499.02319336],\n",
      "       [   0.        ,    0.97656202,    0.        , -499.02319336],\n",
      "       [   0.        ,    0.        ,    5.        ,    0.        ],\n",
      "       [   0.        ,    0.        ,    0.        ,    1.        ]]), False, array([512, 512,  55], dtype=int16), 'no_channel', '/home/xindong/project/data/Task09_Spleen/imagesTr/spleen_10.nii.gz'])\n",
      "\n"
     ]
    }
   ],
   "metadata": {}
  },
  {
   "cell_type": "markdown",
   "source": [
    "LoadImaged是会加载图像数据和元数据的,我们打印data_dict.keys() =dict_keys(['image', 'label', 'image_meta_dict', 'label_meta_dict']) 里面包含了image和label的图像数据索引key，元数据索引key\n",
    "\n",
    "元数据的key默认保存在{key_meta_dict}中，例如上图中的image的元数据的key 是 image_meta_dict,label的元数据key是label_meta_dict\n",
    "\n",
    "我们可以根据data_dict['image_meta_dict']中的key来获取元数据信息\n",
    "\n",
    "例如data_dict['image_meta_dict']['filename_or_obj'] 中保存了Image的url\n",
    "\n",
    "data_dict['image_meta_dict']['pixdim'] 保存了图像的体素维度信息，等等\n"
   ],
   "metadata": {}
  },
  {
   "cell_type": "code",
   "execution_count": 50,
   "source": [
    "image, label = data_dict[\"image\"], data_dict[\"label\"]\n",
    "plt.figure(\"visualize\", (8, 4))\n",
    "plt.subplot(1, 2, 1)\n",
    "plt.title(\"image\")\n",
    "plt.imshow(image[:,:,24], cmap=\"gray\")\n",
    "plt.subplot(1, 2, 2)\n",
    "plt.title(\"label\")\n",
    "plt.imshow(label[:,:,24])\n",
    "plt.show()"
   ],
   "outputs": [
    {
     "output_type": "display_data",
     "data": {
      "text/plain": [
       "<Figure size 576x288 with 2 Axes>"
      ],
      "image/svg+xml": "<?xml version=\"1.0\" encoding=\"utf-8\" standalone=\"no\"?>\n<!DOCTYPE svg PUBLIC \"-//W3C//DTD SVG 1.1//EN\"\n  \"http://www.w3.org/Graphics/SVG/1.1/DTD/svg11.dtd\">\n<svg height=\"249.105341pt\" version=\"1.1\" viewBox=\"0 0 491.873722 249.105341\" width=\"491.873722pt\" xmlns=\"http://www.w3.org/2000/svg\" xmlns:xlink=\"http://www.w3.org/1999/xlink\">\n <metadata>\n  <rdf:RDF xmlns:cc=\"http://creativecommons.org/ns#\" xmlns:dc=\"http://purl.org/dc/elements/1.1/\" xmlns:rdf=\"http://www.w3.org/1999/02/22-rdf-syntax-ns#\">\n   <cc:Work>\n    <dc:type rdf:resource=\"http://purl.org/dc/dcmitype/StillImage\"/>\n    <dc:date>2021-08-26T00:30:23.635525</dc:date>\n    <dc:format>image/svg+xml</dc:format>\n    <dc:creator>\n     <cc:Agent>\n      <dc:title>Matplotlib v3.4.3, https://matplotlib.org/</dc:title>\n     </cc:Agent>\n    </dc:creator>\n   </cc:Work>\n  </rdf:RDF>\n </metadata>\n <defs>\n  <style type=\"text/css\">*{stroke-linecap:butt;stroke-linejoin:round;}</style>\n </defs>\n <g id=\"figure_1\">\n  <g id=\"patch_1\">\n   <path d=\"M 0 249.105341 \nL 491.873722 249.105341 \nL 491.873722 0 \nL 0 0 \nz\n\" style=\"fill:none;\"/>\n  </g>\n  <g id=\"axes_1\">\n   <g id=\"patch_2\">\n    <path d=\"M 33.2875 225.227216 \nL 236.196591 225.227216 \nL 236.196591 22.318125 \nL 33.2875 22.318125 \nz\n\" style=\"fill:#ffffff;\"/>\n   </g>\n   <g clip-path=\"url(#pb831fb959a)\">\n    <image height=\"203\" id=\"image4499c3adac\" transform=\"scale(1 -1)translate(0 -203)\" width=\"203\" x=\"33.2875\" xlink:href=\"data:image/png;base64,\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\" y=\"-22.227216\"/>\n   </g>\n   <g id=\"matplotlib.axis_1\">\n    <g id=\"xtick_1\">\n     <g id=\"line2d_1\">\n      <defs>\n       <path d=\"M 0 0 \nL 0 3.5 \n\" id=\"m514449020a\" style=\"stroke:#000000;stroke-width:0.8;\"/>\n      </defs>\n      <g>\n       <use style=\"stroke:#000000;stroke-width:0.8;\" x=\"33.485653\" xlink:href=\"#m514449020a\" y=\"225.227216\"/>\n      </g>\n     </g>\n     <g id=\"text_1\">\n      <!-- 0 -->\n      <g transform=\"translate(30.304403 239.825653)scale(0.1 -0.1)\">\n       <defs>\n        <path d=\"M 2034 4250 \nQ 1547 4250 1301 3770 \nQ 1056 3291 1056 2328 \nQ 1056 1369 1301 889 \nQ 1547 409 2034 409 \nQ 2525 409 2770 889 \nQ 3016 1369 3016 2328 \nQ 3016 3291 2770 3770 \nQ 2525 4250 2034 4250 \nz\nM 2034 4750 \nQ 2819 4750 3233 4129 \nQ 3647 3509 3647 2328 \nQ 3647 1150 3233 529 \nQ 2819 -91 2034 -91 \nQ 1250 -91 836 529 \nQ 422 1150 422 2328 \nQ 422 3509 836 4129 \nQ 1250 4750 2034 4750 \nz\n\" id=\"DejaVuSans-30\" transform=\"scale(0.015625)\"/>\n       </defs>\n       <use xlink:href=\"#DejaVuSans-30\"/>\n      </g>\n     </g>\n    </g>\n    <g id=\"xtick_2\">\n     <g id=\"line2d_2\">\n      <g>\n       <use style=\"stroke:#000000;stroke-width:0.8;\" x=\"73.116335\" xlink:href=\"#m514449020a\" y=\"225.227216\"/>\n      </g>\n     </g>\n     <g id=\"text_2\">\n      <!-- 100 -->\n      <g transform=\"translate(63.572585 239.825653)scale(0.1 -0.1)\">\n       <defs>\n        <path d=\"M 794 531 \nL 1825 531 \nL 1825 4091 \nL 703 3866 \nL 703 4441 \nL 1819 4666 \nL 2450 4666 \nL 2450 531 \nL 3481 531 \nL 3481 0 \nL 794 0 \nL 794 531 \nz\n\" id=\"DejaVuSans-31\" transform=\"scale(0.015625)\"/>\n       </defs>\n       <use xlink:href=\"#DejaVuSans-31\"/>\n       <use x=\"63.623047\" xlink:href=\"#DejaVuSans-30\"/>\n       <use x=\"127.246094\" xlink:href=\"#DejaVuSans-30\"/>\n      </g>\n     </g>\n    </g>\n    <g id=\"xtick_3\">\n     <g id=\"line2d_3\">\n      <g>\n       <use style=\"stroke:#000000;stroke-width:0.8;\" x=\"112.747017\" xlink:href=\"#m514449020a\" y=\"225.227216\"/>\n      </g>\n     </g>\n     <g id=\"text_3\">\n      <!-- 200 -->\n      <g transform=\"translate(103.203267 239.825653)scale(0.1 -0.1)\">\n       <defs>\n        <path d=\"M 1228 531 \nL 3431 531 \nL 3431 0 \nL 469 0 \nL 469 531 \nQ 828 903 1448 1529 \nQ 2069 2156 2228 2338 \nQ 2531 2678 2651 2914 \nQ 2772 3150 2772 3378 \nQ 2772 3750 2511 3984 \nQ 2250 4219 1831 4219 \nQ 1534 4219 1204 4116 \nQ 875 4013 500 3803 \nL 500 4441 \nQ 881 4594 1212 4672 \nQ 1544 4750 1819 4750 \nQ 2544 4750 2975 4387 \nQ 3406 4025 3406 3419 \nQ 3406 3131 3298 2873 \nQ 3191 2616 2906 2266 \nQ 2828 2175 2409 1742 \nQ 1991 1309 1228 531 \nz\n\" id=\"DejaVuSans-32\" transform=\"scale(0.015625)\"/>\n       </defs>\n       <use xlink:href=\"#DejaVuSans-32\"/>\n       <use x=\"63.623047\" xlink:href=\"#DejaVuSans-30\"/>\n       <use x=\"127.246094\" xlink:href=\"#DejaVuSans-30\"/>\n      </g>\n     </g>\n    </g>\n    <g id=\"xtick_4\">\n     <g id=\"line2d_4\">\n      <g>\n       <use style=\"stroke:#000000;stroke-width:0.8;\" x=\"152.377699\" xlink:href=\"#m514449020a\" y=\"225.227216\"/>\n      </g>\n     </g>\n     <g id=\"text_4\">\n      <!-- 300 -->\n      <g transform=\"translate(142.833949 239.825653)scale(0.1 -0.1)\">\n       <defs>\n        <path d=\"M 2597 2516 \nQ 3050 2419 3304 2112 \nQ 3559 1806 3559 1356 \nQ 3559 666 3084 287 \nQ 2609 -91 1734 -91 \nQ 1441 -91 1130 -33 \nQ 819 25 488 141 \nL 488 750 \nQ 750 597 1062 519 \nQ 1375 441 1716 441 \nQ 2309 441 2620 675 \nQ 2931 909 2931 1356 \nQ 2931 1769 2642 2001 \nQ 2353 2234 1838 2234 \nL 1294 2234 \nL 1294 2753 \nL 1863 2753 \nQ 2328 2753 2575 2939 \nQ 2822 3125 2822 3475 \nQ 2822 3834 2567 4026 \nQ 2313 4219 1838 4219 \nQ 1578 4219 1281 4162 \nQ 984 4106 628 3988 \nL 628 4550 \nQ 988 4650 1302 4700 \nQ 1616 4750 1894 4750 \nQ 2613 4750 3031 4423 \nQ 3450 4097 3450 3541 \nQ 3450 3153 3228 2886 \nQ 3006 2619 2597 2516 \nz\n\" id=\"DejaVuSans-33\" transform=\"scale(0.015625)\"/>\n       </defs>\n       <use xlink:href=\"#DejaVuSans-33\"/>\n       <use x=\"63.623047\" xlink:href=\"#DejaVuSans-30\"/>\n       <use x=\"127.246094\" xlink:href=\"#DejaVuSans-30\"/>\n      </g>\n     </g>\n    </g>\n    <g id=\"xtick_5\">\n     <g id=\"line2d_5\">\n      <g>\n       <use style=\"stroke:#000000;stroke-width:0.8;\" x=\"192.008381\" xlink:href=\"#m514449020a\" y=\"225.227216\"/>\n      </g>\n     </g>\n     <g id=\"text_5\">\n      <!-- 400 -->\n      <g transform=\"translate(182.464631 239.825653)scale(0.1 -0.1)\">\n       <defs>\n        <path d=\"M 2419 4116 \nL 825 1625 \nL 2419 1625 \nL 2419 4116 \nz\nM 2253 4666 \nL 3047 4666 \nL 3047 1625 \nL 3713 1625 \nL 3713 1100 \nL 3047 1100 \nL 3047 0 \nL 2419 0 \nL 2419 1100 \nL 313 1100 \nL 313 1709 \nL 2253 4666 \nz\n\" id=\"DejaVuSans-34\" transform=\"scale(0.015625)\"/>\n       </defs>\n       <use xlink:href=\"#DejaVuSans-34\"/>\n       <use x=\"63.623047\" xlink:href=\"#DejaVuSans-30\"/>\n       <use x=\"127.246094\" xlink:href=\"#DejaVuSans-30\"/>\n      </g>\n     </g>\n    </g>\n    <g id=\"xtick_6\">\n     <g id=\"line2d_6\">\n      <g>\n       <use style=\"stroke:#000000;stroke-width:0.8;\" x=\"231.639062\" xlink:href=\"#m514449020a\" y=\"225.227216\"/>\n      </g>\n     </g>\n     <g id=\"text_6\">\n      <!-- 500 -->\n      <g transform=\"translate(222.095312 239.825653)scale(0.1 -0.1)\">\n       <defs>\n        <path d=\"M 691 4666 \nL 3169 4666 \nL 3169 4134 \nL 1269 4134 \nL 1269 2991 \nQ 1406 3038 1543 3061 \nQ 1681 3084 1819 3084 \nQ 2600 3084 3056 2656 \nQ 3513 2228 3513 1497 \nQ 3513 744 3044 326 \nQ 2575 -91 1722 -91 \nQ 1428 -91 1123 -41 \nQ 819 9 494 109 \nL 494 744 \nQ 775 591 1075 516 \nQ 1375 441 1709 441 \nQ 2250 441 2565 725 \nQ 2881 1009 2881 1497 \nQ 2881 1984 2565 2268 \nQ 2250 2553 1709 2553 \nQ 1456 2553 1204 2497 \nQ 953 2441 691 2322 \nL 691 4666 \nz\n\" id=\"DejaVuSans-35\" transform=\"scale(0.015625)\"/>\n       </defs>\n       <use xlink:href=\"#DejaVuSans-35\"/>\n       <use x=\"63.623047\" xlink:href=\"#DejaVuSans-30\"/>\n       <use x=\"127.246094\" xlink:href=\"#DejaVuSans-30\"/>\n      </g>\n     </g>\n    </g>\n   </g>\n   <g id=\"matplotlib.axis_2\">\n    <g id=\"ytick_1\">\n     <g id=\"line2d_7\">\n      <defs>\n       <path d=\"M 0 0 \nL -3.5 0 \n\" id=\"m29bb2585c3\" style=\"stroke:#000000;stroke-width:0.8;\"/>\n      </defs>\n      <g>\n       <use style=\"stroke:#000000;stroke-width:0.8;\" x=\"33.2875\" xlink:href=\"#m29bb2585c3\" y=\"22.516278\"/>\n      </g>\n     </g>\n     <g id=\"text_7\">\n      <!-- 0 -->\n      <g transform=\"translate(19.925 26.315497)scale(0.1 -0.1)\">\n       <use xlink:href=\"#DejaVuSans-30\"/>\n      </g>\n     </g>\n    </g>\n    <g id=\"ytick_2\">\n     <g id=\"line2d_8\">\n      <g>\n       <use style=\"stroke:#000000;stroke-width:0.8;\" x=\"33.2875\" xlink:href=\"#m29bb2585c3\" y=\"62.14696\"/>\n      </g>\n     </g>\n     <g id=\"text_8\">\n      <!-- 100 -->\n      <g transform=\"translate(7.2 65.946179)scale(0.1 -0.1)\">\n       <use xlink:href=\"#DejaVuSans-31\"/>\n       <use x=\"63.623047\" xlink:href=\"#DejaVuSans-30\"/>\n       <use x=\"127.246094\" xlink:href=\"#DejaVuSans-30\"/>\n      </g>\n     </g>\n    </g>\n    <g id=\"ytick_3\">\n     <g id=\"line2d_9\">\n      <g>\n       <use style=\"stroke:#000000;stroke-width:0.8;\" x=\"33.2875\" xlink:href=\"#m29bb2585c3\" y=\"101.777642\"/>\n      </g>\n     </g>\n     <g id=\"text_9\">\n      <!-- 200 -->\n      <g transform=\"translate(7.2 105.576861)scale(0.1 -0.1)\">\n       <use xlink:href=\"#DejaVuSans-32\"/>\n       <use x=\"63.623047\" xlink:href=\"#DejaVuSans-30\"/>\n       <use x=\"127.246094\" xlink:href=\"#DejaVuSans-30\"/>\n      </g>\n     </g>\n    </g>\n    <g id=\"ytick_4\">\n     <g id=\"line2d_10\">\n      <g>\n       <use style=\"stroke:#000000;stroke-width:0.8;\" x=\"33.2875\" xlink:href=\"#m29bb2585c3\" y=\"141.408324\"/>\n      </g>\n     </g>\n     <g id=\"text_10\">\n      <!-- 300 -->\n      <g transform=\"translate(7.2 145.207543)scale(0.1 -0.1)\">\n       <use xlink:href=\"#DejaVuSans-33\"/>\n       <use x=\"63.623047\" xlink:href=\"#DejaVuSans-30\"/>\n       <use x=\"127.246094\" xlink:href=\"#DejaVuSans-30\"/>\n      </g>\n     </g>\n    </g>\n    <g id=\"ytick_5\">\n     <g id=\"line2d_11\">\n      <g>\n       <use style=\"stroke:#000000;stroke-width:0.8;\" x=\"33.2875\" xlink:href=\"#m29bb2585c3\" y=\"181.039006\"/>\n      </g>\n     </g>\n     <g id=\"text_11\">\n      <!-- 400 -->\n      <g transform=\"translate(7.2 184.838224)scale(0.1 -0.1)\">\n       <use xlink:href=\"#DejaVuSans-34\"/>\n       <use x=\"63.623047\" xlink:href=\"#DejaVuSans-30\"/>\n       <use x=\"127.246094\" xlink:href=\"#DejaVuSans-30\"/>\n      </g>\n     </g>\n    </g>\n    <g id=\"ytick_6\">\n     <g id=\"line2d_12\">\n      <g>\n       <use style=\"stroke:#000000;stroke-width:0.8;\" x=\"33.2875\" xlink:href=\"#m29bb2585c3\" y=\"220.669687\"/>\n      </g>\n     </g>\n     <g id=\"text_12\">\n      <!-- 500 -->\n      <g transform=\"translate(7.2 224.468906)scale(0.1 -0.1)\">\n       <use xlink:href=\"#DejaVuSans-35\"/>\n       <use x=\"63.623047\" xlink:href=\"#DejaVuSans-30\"/>\n       <use x=\"127.246094\" xlink:href=\"#DejaVuSans-30\"/>\n      </g>\n     </g>\n    </g>\n   </g>\n   <g id=\"patch_3\">\n    <path d=\"M 33.2875 225.227216 \nL 33.2875 22.318125 \n\" style=\"fill:none;stroke:#000000;stroke-linecap:square;stroke-linejoin:miter;stroke-width:0.8;\"/>\n   </g>\n   <g id=\"patch_4\">\n    <path d=\"M 236.196591 225.227216 \nL 236.196591 22.318125 \n\" style=\"fill:none;stroke:#000000;stroke-linecap:square;stroke-linejoin:miter;stroke-width:0.8;\"/>\n   </g>\n   <g id=\"patch_5\">\n    <path d=\"M 33.2875 225.227216 \nL 236.196591 225.227216 \n\" style=\"fill:none;stroke:#000000;stroke-linecap:square;stroke-linejoin:miter;stroke-width:0.8;\"/>\n   </g>\n   <g id=\"patch_6\">\n    <path d=\"M 33.2875 22.318125 \nL 236.196591 22.318125 \n\" style=\"fill:none;stroke:#000000;stroke-linecap:square;stroke-linejoin:miter;stroke-width:0.8;\"/>\n   </g>\n   <g id=\"text_13\">\n    <!-- image -->\n    <g transform=\"translate(116.052983 16.318125)scale(0.12 -0.12)\">\n     <defs>\n      <path d=\"M 603 3500 \nL 1178 3500 \nL 1178 0 \nL 603 0 \nL 603 3500 \nz\nM 603 4863 \nL 1178 4863 \nL 1178 4134 \nL 603 4134 \nL 603 4863 \nz\n\" id=\"DejaVuSans-69\" transform=\"scale(0.015625)\"/>\n      <path d=\"M 3328 2828 \nQ 3544 3216 3844 3400 \nQ 4144 3584 4550 3584 \nQ 5097 3584 5394 3201 \nQ 5691 2819 5691 2113 \nL 5691 0 \nL 5113 0 \nL 5113 2094 \nQ 5113 2597 4934 2840 \nQ 4756 3084 4391 3084 \nQ 3944 3084 3684 2787 \nQ 3425 2491 3425 1978 \nL 3425 0 \nL 2847 0 \nL 2847 2094 \nQ 2847 2600 2669 2842 \nQ 2491 3084 2119 3084 \nQ 1678 3084 1418 2786 \nQ 1159 2488 1159 1978 \nL 1159 0 \nL 581 0 \nL 581 3500 \nL 1159 3500 \nL 1159 2956 \nQ 1356 3278 1631 3431 \nQ 1906 3584 2284 3584 \nQ 2666 3584 2933 3390 \nQ 3200 3197 3328 2828 \nz\n\" id=\"DejaVuSans-6d\" transform=\"scale(0.015625)\"/>\n      <path d=\"M 2194 1759 \nQ 1497 1759 1228 1600 \nQ 959 1441 959 1056 \nQ 959 750 1161 570 \nQ 1363 391 1709 391 \nQ 2188 391 2477 730 \nQ 2766 1069 2766 1631 \nL 2766 1759 \nL 2194 1759 \nz\nM 3341 1997 \nL 3341 0 \nL 2766 0 \nL 2766 531 \nQ 2569 213 2275 61 \nQ 1981 -91 1556 -91 \nQ 1019 -91 701 211 \nQ 384 513 384 1019 \nQ 384 1609 779 1909 \nQ 1175 2209 1959 2209 \nL 2766 2209 \nL 2766 2266 \nQ 2766 2663 2505 2880 \nQ 2244 3097 1772 3097 \nQ 1472 3097 1187 3025 \nQ 903 2953 641 2809 \nL 641 3341 \nQ 956 3463 1253 3523 \nQ 1550 3584 1831 3584 \nQ 2591 3584 2966 3190 \nQ 3341 2797 3341 1997 \nz\n\" id=\"DejaVuSans-61\" transform=\"scale(0.015625)\"/>\n      <path d=\"M 2906 1791 \nQ 2906 2416 2648 2759 \nQ 2391 3103 1925 3103 \nQ 1463 3103 1205 2759 \nQ 947 2416 947 1791 \nQ 947 1169 1205 825 \nQ 1463 481 1925 481 \nQ 2391 481 2648 825 \nQ 2906 1169 2906 1791 \nz\nM 3481 434 \nQ 3481 -459 3084 -895 \nQ 2688 -1331 1869 -1331 \nQ 1566 -1331 1297 -1286 \nQ 1028 -1241 775 -1147 \nL 775 -588 \nQ 1028 -725 1275 -790 \nQ 1522 -856 1778 -856 \nQ 2344 -856 2625 -561 \nQ 2906 -266 2906 331 \nL 2906 616 \nQ 2728 306 2450 153 \nQ 2172 0 1784 0 \nQ 1141 0 747 490 \nQ 353 981 353 1791 \nQ 353 2603 747 3093 \nQ 1141 3584 1784 3584 \nQ 2172 3584 2450 3431 \nQ 2728 3278 2906 2969 \nL 2906 3500 \nL 3481 3500 \nL 3481 434 \nz\n\" id=\"DejaVuSans-67\" transform=\"scale(0.015625)\"/>\n      <path d=\"M 3597 1894 \nL 3597 1613 \nL 953 1613 \nQ 991 1019 1311 708 \nQ 1631 397 2203 397 \nQ 2534 397 2845 478 \nQ 3156 559 3463 722 \nL 3463 178 \nQ 3153 47 2828 -22 \nQ 2503 -91 2169 -91 \nQ 1331 -91 842 396 \nQ 353 884 353 1716 \nQ 353 2575 817 3079 \nQ 1281 3584 2069 3584 \nQ 2775 3584 3186 3129 \nQ 3597 2675 3597 1894 \nz\nM 3022 2063 \nQ 3016 2534 2758 2815 \nQ 2500 3097 2075 3097 \nQ 1594 3097 1305 2825 \nQ 1016 2553 972 2059 \nL 3022 2063 \nz\n\" id=\"DejaVuSans-65\" transform=\"scale(0.015625)\"/>\n     </defs>\n     <use xlink:href=\"#DejaVuSans-69\"/>\n     <use x=\"27.783203\" xlink:href=\"#DejaVuSans-6d\"/>\n     <use x=\"125.195312\" xlink:href=\"#DejaVuSans-61\"/>\n     <use x=\"186.474609\" xlink:href=\"#DejaVuSans-67\"/>\n     <use x=\"249.951172\" xlink:href=\"#DejaVuSans-65\"/>\n    </g>\n   </g>\n  </g>\n  <g id=\"axes_2\">\n   <g id=\"patch_7\">\n    <path d=\"M 276.778409 225.227216 \nL 479.6875 225.227216 \nL 479.6875 22.318125 \nL 276.778409 22.318125 \nz\n\" style=\"fill:#ffffff;\"/>\n   </g>\n   <g clip-path=\"url(#pdd2746c7e2)\">\n    <image height=\"203\" id=\"imagedd89015623\" transform=\"scale(1 -1)translate(0 -203)\" width=\"203\" x=\"276.778409\" xlink:href=\"data:image/png;base64,\niVBORw0KGgoAAAANSUhEUgAAAMsAAADLCAYAAADA+2czAAAEPklEQVR4nO3YT4jUZRzH8e9vfq7NtkupyZZoQVAtFKGH2k5dQkHy0h8pzwWdQkjCW8cO0a2Qbt0kqaDoYiB13ww6hBERQQr+YaNQV3YXd2Y65EEL9CP8piF6va7DPL/vPMN7mOdpdjf7RwXcUm/SA8B/hVggJBYIiQVCYoGQWCAkFgiJBUJigZBYICQWCIkFQmKBkFggJBYIiQVCYoGQWCAkFgiJBUJigZBYICQWCIkFQmKBkFggJBYIiQVCYoGQWCAkFgiJBUJigZBYICQWCIkFQmKBkFggJBYIiQVCYoGQWCAkFgiJBUJigZBYICQWCIkFQmKBkFggJBYIiQVCYoGQWCAkFgiJBUJigZBYICQWCIkFQmKBkFggJBYIiQVCYoGQWCAkFgiJBUJigZBYICQWCIkFQmKBkFggJBYIiQVCYoGQWCAkFgiJBUJigZBYICQWCIkFQmKBkFggJBYIiQVCYoGQWCAkFgiJBUJigZBYICQWCIkFQmKBkFggJBYIiQVCYoGQWCAkFgiJBUJigZBYICQWCIkFQmKBkFggJBYIiQVCYoGQWCAkFgiJBUJigZBYICQWCIkFQmKBkFggJBYIiQVCYoGQWCAkFgiJBUJigZBYICQWCIkFQmKBkFggJBYIiQVCYoGQWCAkFgiJBUJigZBYICQWCIkFQmKBkFggJBYIiQVCYoGQWCAkFgiJBUJigZBYICQWCIkFQhsmPcD/UtNUNb3qTffr6sJ8Ddvmhpfb1UG1iz/UaP1q1Wg0oSH5O7GMSTO1sdr75qp610Jomjq3d3utbW5qZX6tDuw8WbPtch3c8lXd0Uzd8N4/hqt15PeFOnrqybrn+HRtOvpN1XAwgU/B9ZrdzX4/XR3ZcP+OuvL4tjr9bK+2PbRU780fq7b+2t5eM6r5qfYfYdzKufXl2v3B4drxzqJgJkwsHWg33V2/HHq03nr54zowu1Rt0+1R8LfBlXr+4KG687PFTtfl9vgb1oEzrz1W37/6fk01bY3jzmRrO1P9189W73i/hqurna9Pxm1YB+565vy1UMbno0eO1eV9O8f6DG5OLF34cK7OrS+P9RFb25la2uXrmiS734HZT0/WniOHxxrMxeFKbf7R8XKSxNKF4aC2v7tYLx5+s174eU8tD7s9V6yNrtbT375Sm7841em63B63YR3r9ft18blddWHfWr298Hk91T9TD07N3vY6g9GwTqxM1xvfvVQzX87W3CenanDp0hgmJiWWcem11c7O1NoTD9flBzbWylxT2/f+Wr3m5tv909l7a8uJfjXDqq1fn67B+Qs1Wl//l4bmZsQCIWcWCIkFQmKBkFggJBYIiQVCYoGQWCAkFgiJBUJigZBYICQWCIkFQmKBkFggJBYIiQVCYoGQWCAkFgiJBUJigZBYICQWCIkFQmKBkFggJBYIiQVCYoGQWCAkFgiJBUJ/Al/ej+D5s0sqAAAAAElFTkSuQmCC\" y=\"-22.227216\"/>\n   </g>\n   <g id=\"matplotlib.axis_3\">\n    <g id=\"xtick_7\">\n     <g id=\"line2d_13\">\n      <g>\n       <use style=\"stroke:#000000;stroke-width:0.8;\" x=\"276.976562\" xlink:href=\"#m514449020a\" y=\"225.227216\"/>\n      </g>\n     </g>\n     <g id=\"text_14\">\n      <!-- 0 -->\n      <g transform=\"translate(273.795313 239.825653)scale(0.1 -0.1)\">\n       <use xlink:href=\"#DejaVuSans-30\"/>\n      </g>\n     </g>\n    </g>\n    <g id=\"xtick_8\">\n     <g id=\"line2d_14\">\n      <g>\n       <use style=\"stroke:#000000;stroke-width:0.8;\" x=\"316.607244\" xlink:href=\"#m514449020a\" y=\"225.227216\"/>\n      </g>\n     </g>\n     <g id=\"text_15\">\n      <!-- 100 -->\n      <g transform=\"translate(307.063494 239.825653)scale(0.1 -0.1)\">\n       <use xlink:href=\"#DejaVuSans-31\"/>\n       <use x=\"63.623047\" xlink:href=\"#DejaVuSans-30\"/>\n       <use x=\"127.246094\" xlink:href=\"#DejaVuSans-30\"/>\n      </g>\n     </g>\n    </g>\n    <g id=\"xtick_9\">\n     <g id=\"line2d_15\">\n      <g>\n       <use style=\"stroke:#000000;stroke-width:0.8;\" x=\"356.237926\" xlink:href=\"#m514449020a\" y=\"225.227216\"/>\n      </g>\n     </g>\n     <g id=\"text_16\">\n      <!-- 200 -->\n      <g transform=\"translate(346.694176 239.825653)scale(0.1 -0.1)\">\n       <use xlink:href=\"#DejaVuSans-32\"/>\n       <use x=\"63.623047\" xlink:href=\"#DejaVuSans-30\"/>\n       <use x=\"127.246094\" xlink:href=\"#DejaVuSans-30\"/>\n      </g>\n     </g>\n    </g>\n    <g id=\"xtick_10\">\n     <g id=\"line2d_16\">\n      <g>\n       <use style=\"stroke:#000000;stroke-width:0.8;\" x=\"395.868608\" xlink:href=\"#m514449020a\" y=\"225.227216\"/>\n      </g>\n     </g>\n     <g id=\"text_17\">\n      <!-- 300 -->\n      <g transform=\"translate(386.324858 239.825653)scale(0.1 -0.1)\">\n       <use xlink:href=\"#DejaVuSans-33\"/>\n       <use x=\"63.623047\" xlink:href=\"#DejaVuSans-30\"/>\n       <use x=\"127.246094\" xlink:href=\"#DejaVuSans-30\"/>\n      </g>\n     </g>\n    </g>\n    <g id=\"xtick_11\">\n     <g id=\"line2d_17\">\n      <g>\n       <use style=\"stroke:#000000;stroke-width:0.8;\" x=\"435.49929\" xlink:href=\"#m514449020a\" y=\"225.227216\"/>\n      </g>\n     </g>\n     <g id=\"text_18\">\n      <!-- 400 -->\n      <g transform=\"translate(425.95554 239.825653)scale(0.1 -0.1)\">\n       <use xlink:href=\"#DejaVuSans-34\"/>\n       <use x=\"63.623047\" xlink:href=\"#DejaVuSans-30\"/>\n       <use x=\"127.246094\" xlink:href=\"#DejaVuSans-30\"/>\n      </g>\n     </g>\n    </g>\n    <g id=\"xtick_12\">\n     <g id=\"line2d_18\">\n      <g>\n       <use style=\"stroke:#000000;stroke-width:0.8;\" x=\"475.129972\" xlink:href=\"#m514449020a\" y=\"225.227216\"/>\n      </g>\n     </g>\n     <g id=\"text_19\">\n      <!-- 500 -->\n      <g transform=\"translate(465.586222 239.825653)scale(0.1 -0.1)\">\n       <use xlink:href=\"#DejaVuSans-35\"/>\n       <use x=\"63.623047\" xlink:href=\"#DejaVuSans-30\"/>\n       <use x=\"127.246094\" xlink:href=\"#DejaVuSans-30\"/>\n      </g>\n     </g>\n    </g>\n   </g>\n   <g id=\"matplotlib.axis_4\">\n    <g id=\"ytick_7\">\n     <g id=\"line2d_19\">\n      <g>\n       <use style=\"stroke:#000000;stroke-width:0.8;\" x=\"276.778409\" xlink:href=\"#m29bb2585c3\" y=\"22.516278\"/>\n      </g>\n     </g>\n     <g id=\"text_20\">\n      <!-- 0 -->\n      <g transform=\"translate(263.415909 26.315497)scale(0.1 -0.1)\">\n       <use xlink:href=\"#DejaVuSans-30\"/>\n      </g>\n     </g>\n    </g>\n    <g id=\"ytick_8\">\n     <g id=\"line2d_20\">\n      <g>\n       <use style=\"stroke:#000000;stroke-width:0.8;\" x=\"276.778409\" xlink:href=\"#m29bb2585c3\" y=\"62.14696\"/>\n      </g>\n     </g>\n     <g id=\"text_21\">\n      <!-- 100 -->\n      <g transform=\"translate(250.690909 65.946179)scale(0.1 -0.1)\">\n       <use xlink:href=\"#DejaVuSans-31\"/>\n       <use x=\"63.623047\" xlink:href=\"#DejaVuSans-30\"/>\n       <use x=\"127.246094\" xlink:href=\"#DejaVuSans-30\"/>\n      </g>\n     </g>\n    </g>\n    <g id=\"ytick_9\">\n     <g id=\"line2d_21\">\n      <g>\n       <use style=\"stroke:#000000;stroke-width:0.8;\" x=\"276.778409\" xlink:href=\"#m29bb2585c3\" y=\"101.777642\"/>\n      </g>\n     </g>\n     <g id=\"text_22\">\n      <!-- 200 -->\n      <g transform=\"translate(250.690909 105.576861)scale(0.1 -0.1)\">\n       <use xlink:href=\"#DejaVuSans-32\"/>\n       <use x=\"63.623047\" xlink:href=\"#DejaVuSans-30\"/>\n       <use x=\"127.246094\" xlink:href=\"#DejaVuSans-30\"/>\n      </g>\n     </g>\n    </g>\n    <g id=\"ytick_10\">\n     <g id=\"line2d_22\">\n      <g>\n       <use style=\"stroke:#000000;stroke-width:0.8;\" x=\"276.778409\" xlink:href=\"#m29bb2585c3\" y=\"141.408324\"/>\n      </g>\n     </g>\n     <g id=\"text_23\">\n      <!-- 300 -->\n      <g transform=\"translate(250.690909 145.207543)scale(0.1 -0.1)\">\n       <use xlink:href=\"#DejaVuSans-33\"/>\n       <use x=\"63.623047\" xlink:href=\"#DejaVuSans-30\"/>\n       <use x=\"127.246094\" xlink:href=\"#DejaVuSans-30\"/>\n      </g>\n     </g>\n    </g>\n    <g id=\"ytick_11\">\n     <g id=\"line2d_23\">\n      <g>\n       <use style=\"stroke:#000000;stroke-width:0.8;\" x=\"276.778409\" xlink:href=\"#m29bb2585c3\" y=\"181.039006\"/>\n      </g>\n     </g>\n     <g id=\"text_24\">\n      <!-- 400 -->\n      <g transform=\"translate(250.690909 184.838224)scale(0.1 -0.1)\">\n       <use xlink:href=\"#DejaVuSans-34\"/>\n       <use x=\"63.623047\" xlink:href=\"#DejaVuSans-30\"/>\n       <use x=\"127.246094\" xlink:href=\"#DejaVuSans-30\"/>\n      </g>\n     </g>\n    </g>\n    <g id=\"ytick_12\">\n     <g id=\"line2d_24\">\n      <g>\n       <use style=\"stroke:#000000;stroke-width:0.8;\" x=\"276.778409\" xlink:href=\"#m29bb2585c3\" y=\"220.669687\"/>\n      </g>\n     </g>\n     <g id=\"text_25\">\n      <!-- 500 -->\n      <g transform=\"translate(250.690909 224.468906)scale(0.1 -0.1)\">\n       <use xlink:href=\"#DejaVuSans-35\"/>\n       <use x=\"63.623047\" xlink:href=\"#DejaVuSans-30\"/>\n       <use x=\"127.246094\" xlink:href=\"#DejaVuSans-30\"/>\n      </g>\n     </g>\n    </g>\n   </g>\n   <g id=\"patch_8\">\n    <path d=\"M 276.778409 225.227216 \nL 276.778409 22.318125 \n\" style=\"fill:none;stroke:#000000;stroke-linecap:square;stroke-linejoin:miter;stroke-width:0.8;\"/>\n   </g>\n   <g id=\"patch_9\">\n    <path d=\"M 479.6875 225.227216 \nL 479.6875 22.318125 \n\" style=\"fill:none;stroke:#000000;stroke-linecap:square;stroke-linejoin:miter;stroke-width:0.8;\"/>\n   </g>\n   <g id=\"patch_10\">\n    <path d=\"M 276.778409 225.227216 \nL 479.6875 225.227216 \n\" style=\"fill:none;stroke:#000000;stroke-linecap:square;stroke-linejoin:miter;stroke-width:0.8;\"/>\n   </g>\n   <g id=\"patch_11\">\n    <path d=\"M 276.778409 22.318125 \nL 479.6875 22.318125 \n\" style=\"fill:none;stroke:#000000;stroke-linecap:square;stroke-linejoin:miter;stroke-width:0.8;\"/>\n   </g>\n   <g id=\"text_26\">\n    <!-- label -->\n    <g transform=\"translate(363.721392 16.318125)scale(0.12 -0.12)\">\n     <defs>\n      <path d=\"M 603 4863 \nL 1178 4863 \nL 1178 0 \nL 603 0 \nL 603 4863 \nz\n\" id=\"DejaVuSans-6c\" transform=\"scale(0.015625)\"/>\n      <path d=\"M 3116 1747 \nQ 3116 2381 2855 2742 \nQ 2594 3103 2138 3103 \nQ 1681 3103 1420 2742 \nQ 1159 2381 1159 1747 \nQ 1159 1113 1420 752 \nQ 1681 391 2138 391 \nQ 2594 391 2855 752 \nQ 3116 1113 3116 1747 \nz\nM 1159 2969 \nQ 1341 3281 1617 3432 \nQ 1894 3584 2278 3584 \nQ 2916 3584 3314 3078 \nQ 3713 2572 3713 1747 \nQ 3713 922 3314 415 \nQ 2916 -91 2278 -91 \nQ 1894 -91 1617 61 \nQ 1341 213 1159 525 \nL 1159 0 \nL 581 0 \nL 581 4863 \nL 1159 4863 \nL 1159 2969 \nz\n\" id=\"DejaVuSans-62\" transform=\"scale(0.015625)\"/>\n     </defs>\n     <use xlink:href=\"#DejaVuSans-6c\"/>\n     <use x=\"27.783203\" xlink:href=\"#DejaVuSans-61\"/>\n     <use x=\"89.0625\" xlink:href=\"#DejaVuSans-62\"/>\n     <use x=\"152.539062\" xlink:href=\"#DejaVuSans-65\"/>\n     <use x=\"214.0625\" xlink:href=\"#DejaVuSans-6c\"/>\n    </g>\n   </g>\n  </g>\n </g>\n <defs>\n  <clipPath id=\"pb831fb959a\">\n   <rect height=\"202.909091\" width=\"202.909091\" x=\"33.2875\" y=\"22.318125\"/>\n  </clipPath>\n  <clipPath id=\"pdd2746c7e2\">\n   <rect height=\"202.909091\" width=\"202.909091\" x=\"276.778409\" y=\"22.318125\"/>\n  </clipPath>\n </defs>\n</svg>\n",
      "image/png": "[encoded data removed]"
     },
     "metadata": {
      "needs_background": "light"
     }
    }
   ],
   "metadata": {}
  },
  {
   "cell_type": "code",
   "execution_count": 51,
   "source": [
    "x = image[:,:,24]\n",
    "print(x.shape)\n",
    "print(f\"NormalizeIntensityd befor min val:{data_dict['image'].min()}\")\n",
    "print(f\"NormalizeIntensityd befor max val:{data_dict['image'].max()}\")"
   ],
   "outputs": [
    {
     "output_type": "stream",
     "name": "stdout",
     "text": [
      "(512, 512)\n",
      "NormalizeIntensityd befor min val:-1024.0\n",
      "NormalizeIntensityd befor max val:3072.0\n"
     ]
    }
   ],
   "metadata": {}
  },
  {
   "cell_type": "code",
   "execution_count": 52,
   "source": [
    "orientation = Orientationd(keys=[\"image\", \"label\"], axcodes=\"LPS\")\n",
    "print(f\"image affine before Orientationd:\\n{data_dict['image_meta_dict']['affine']}\")\n",
    "print(f\"label affine before Orientationd:\\n{data_dict['label_meta_dict']['affine']}\")\n",
    "data_dict_orn = orientation(data_dict)\n",
    "print(f\"image affine after Orientationd:\\n{data_dict_orn['image_meta_dict']['affine']}\")\n",
    "print(f\"label affine after Orientationd:\\n{data_dict_orn['label_meta_dict']['affine']}\")\n",
    "\n",
    "print(f\"NormalizeIntensityd befor min val:{data_dict['image'].min()}\")\n",
    "print(f\"NormalizeIntensityd befor max val:{data_dict['image'].max()}\")\n"
   ],
   "outputs": [
    {
     "output_type": "stream",
     "name": "stdout",
     "text": [
      "image affine before Orientationd:\n",
      "[[   0.97656202    0.            0.         -499.02319336]\n",
      " [   0.            0.97656202    0.         -499.02319336]\n",
      " [   0.            0.            5.            0.        ]\n",
      " [   0.            0.            0.            1.        ]]\n",
      "label affine before Orientationd:\n",
      "[[   0.97656202    0.            0.         -499.02319336]\n",
      " [   0.            0.97656202    0.         -499.02319336]\n",
      " [   0.            0.            5.            0.        ]\n",
      " [   0.            0.            0.            1.        ]]\n",
      "image affine after Orientationd:\n",
      "[[-9.76562023e-01  0.00000000e+00  0.00000000e+00  4.76837158e-07]\n",
      " [ 0.00000000e+00 -9.76562023e-01  0.00000000e+00 -4.46288844e+02]\n",
      " [ 0.00000000e+00  0.00000000e+00  5.00000000e+00  0.00000000e+00]\n",
      " [ 0.00000000e+00  0.00000000e+00  0.00000000e+00  1.00000000e+00]]\n",
      "label affine after Orientationd:\n",
      "[[-9.76562023e-01  0.00000000e+00  0.00000000e+00  4.76837158e-07]\n",
      " [ 0.00000000e+00 -9.76562023e-01  0.00000000e+00 -4.46288844e+02]\n",
      " [ 0.00000000e+00  0.00000000e+00  5.00000000e+00  0.00000000e+00]\n",
      " [ 0.00000000e+00  0.00000000e+00  0.00000000e+00  1.00000000e+00]]\n",
      "NormalizeIntensityd befor min val:-1024.0\n",
      "NormalizeIntensityd befor max val:3072.0\n"
     ]
    }
   ],
   "metadata": {}
  },
  {
   "cell_type": "markdown",
   "source": [
    "对图像进行一个方向变换，图像默认的方向是RAS坐标表示，如上图，进行了一个LPS的转换\n",
    "\n",
    "axcodes 指定一个一个轴向默认是\"RAS\"\n",
    "\n",
    "as_closest_canonical 如果为 True，则加载最接近规范轴格式的图像。 并忽略axcodes的参数"
   ],
   "metadata": {}
  },
  {
   "cell_type": "markdown",
   "source": [
    "## 分辨率变换 [Spacingd]"
   ],
   "metadata": {}
  },
  {
   "cell_type": "code",
   "execution_count": 53,
   "source": [
    "spacing = Spacingd(keys=[\"image\",\"label\"], \n",
    "    pixdim=(1.5, 1.5, 5.0), mode=(\"bilinear\", \"nearest\"))\n",
    "print(f\"label affine before Spacingd:\\n{data_dict['label_meta_dict']['affine']}\")\n",
    "data_dict_spa = spacing(data_dict)\n",
    "print(f\"image affine after Spacingd:\\n{data_dict_spa['image_meta_dict']['affine']}\")\n"
   ],
   "outputs": [
    {
     "output_type": "stream",
     "name": "stdout",
     "text": [
      "label affine before Spacingd:\n",
      "[[-9.76562023e-01  0.00000000e+00  0.00000000e+00  4.76837158e-07]\n",
      " [ 0.00000000e+00 -9.76562023e-01  0.00000000e+00 -4.46288844e+02]\n",
      " [ 0.00000000e+00  0.00000000e+00  5.00000000e+00  0.00000000e+00]\n",
      " [ 0.00000000e+00  0.00000000e+00  0.00000000e+00  1.00000000e+00]]\n",
      "image affine after Spacingd:\n",
      "[[-1.50000000e+00  0.00000000e+00  0.00000000e+00  4.76837158e-07]\n",
      " [ 0.00000000e+00 -1.50000000e+00  0.00000000e+00 -4.46288844e+02]\n",
      " [ 0.00000000e+00  0.00000000e+00  5.00000000e+00  0.00000000e+00]\n",
      " [ 0.00000000e+00  0.00000000e+00  0.00000000e+00  1.00000000e+00]]\n"
     ]
    }
   ],
   "metadata": {}
  },
  {
   "cell_type": "markdown",
   "source": [
    " ## 添加通道 [AddChanneld/EnsureChannelFirstd/AsChannelFirstd/AsChannelLastd]\n",
    "\n",
    " ### AddChanneld \n",
    " * 向输入图像添加一个长度为 1 的通道维度。\n",
    " * 大多数图像变换假设输入图像采用通道优先格式，其形状为 (num_channels, spatial_dim_1[, spatial_dim_2, …]).monai.transforms\n",
    "\n",
    " ### EnsureChannelFirstd \n",
    " * 自动添加一个通道的维度确保通道在shape中的第一位置\n",
    "\n",
    " ### AsChannelFirstd \n",
    "  * 将图像的通道维度更改为第一维度。 \n",
    "\n",
    " ### AsChannelLastd \n",
    " * 将图像的通道维度更改为最后一个维度。 参数channel_dim指定哪个维度改为最后一个维度，默认第一个维度(channel_dim=0)\n",
    "\n"
   ],
   "metadata": {}
  },
  {
   "cell_type": "code",
   "execution_count": 54,
   "source": [
    "print(f\"AddChanneld before image shape: {data_dict['image'].shape}\")\n",
    "add_channel = AddChanneld(keys=[\"image\", \"label\"])\n",
    "data_dict_addc = add_channel(data_dict)\n",
    "print(f\"AddChanneld after image shape: {data_dict_addc['image'].shape}\")\n",
    "\n",
    "print(f\"NormalizeIntensityd befor min val:{data_dict['image'].min()}\")\n",
    "print(f\"NormalizeIntensityd befor max val:{data_dict['image'].max()}\")"
   ],
   "outputs": [
    {
     "output_type": "stream",
     "name": "stdout",
     "text": [
      "AddChanneld before image shape: (512, 512, 55)\n",
      "AddChanneld after image shape: (1, 512, 512, 55)\n",
      "NormalizeIntensityd befor min val:-1024.0\n",
      "NormalizeIntensityd befor max val:3072.0\n"
     ]
    }
   ],
   "metadata": {}
  },
  {
   "cell_type": "code",
   "execution_count": 55,
   "source": [
    "print(f\"EnsureChannelFirstd before image shape: {data_dict['image'].shape}\")\n",
    "firstchannel = EnsureChannelFirstd(keys=[\"image\", \"label\"])\n",
    "datac_dict_first = firstchannel(data_dict)\n",
    "print(f\"EnsureChannelFirstd after image shape: {datac_dict_first['image'].shape}\")\n",
    "\n",
    "\n",
    "print(f\"NormalizeIntensityd befor min val:{data_dict['image'].min()}\")\n",
    "print(f\"NormalizeIntensityd befor max val:{data_dict['image'].max()}\")\n"
   ],
   "outputs": [
    {
     "output_type": "stream",
     "name": "stdout",
     "text": [
      "EnsureChannelFirstd before image shape: (512, 512, 55)\n",
      "EnsureChannelFirstd after image shape: (1, 512, 512, 55)\n",
      "NormalizeIntensityd befor min val:-1024.0\n",
      "NormalizeIntensityd befor max val:3072.0\n"
     ]
    }
   ],
   "metadata": {}
  },
  {
   "cell_type": "code",
   "execution_count": 56,
   "source": [
    "print(f\"AsChannelFirstd before image shape: {data_dict['image'].shape}\")\n",
    "aschannelf = AsChannelFirstd(keys=[\"image\", \"label\"])\n",
    "data_dict_asf = aschannelf(data_dict)\n",
    "print(f\"AsChannelFirstd after image shape: {data_dict_asf['image'].shape}\")\n",
    "\n",
    "print(f\"NormalizeIntensityd befor min val:{data_dict['image'].min()}\")\n",
    "print(f\"NormalizeIntensityd befor max val:{data_dict['image'].max()}\")"
   ],
   "outputs": [
    {
     "output_type": "stream",
     "name": "stdout",
     "text": [
      "AsChannelFirstd before image shape: (512, 512, 55)\n",
      "AsChannelFirstd after image shape: (55, 512, 512)\n",
      "NormalizeIntensityd befor min val:-1024.0\n",
      "NormalizeIntensityd befor max val:3072.0\n"
     ]
    }
   ],
   "metadata": {}
  },
  {
   "cell_type": "code",
   "execution_count": 57,
   "source": [
    "print(f\"AsChannelLastd before image shape: {data_dict['image'].shape}\")\n",
    "lastchannel = AsChannelLastd(keys=[\"image\", \"label\"],channel_dim=0)\n",
    "data_dict_last = lastchannel(data_dict)\n",
    "print(f\"AsChannelLastd after image shape: {data_dict_last['image'].shape}\")\n",
    "\n",
    "print(f\"NormalizeIntensityd befor min val:{data_dict['image'].min()}\")\n",
    "print(f\"NormalizeIntensityd befor max val:{data_dict['image'].max()}\")"
   ],
   "outputs": [
    {
     "output_type": "stream",
     "name": "stdout",
     "text": [
      "AsChannelLastd before image shape: (512, 512, 55)\n",
      "AsChannelLastd after image shape: (512, 55, 512)\n",
      "NormalizeIntensityd befor min val:-1024.0\n",
      "NormalizeIntensityd befor max val:3072.0\n"
     ]
    }
   ],
   "metadata": {}
  },
  {
   "cell_type": "markdown",
   "source": [
    "## 强度变换 [NormalizeIntensityd / ScaleIntensityRanged/ScaleIntensityd]\n",
    "\n",
    "### NormalizeIntensityd\n",
    "#### 查看源码发现，该函数使用的归一化方法是  image-subtrahend/divisor\n",
    "#### 参 数 介 绍\n",
    "\n",
    "* subtrahend：被减数， 可以自己指定，默认为整个图像的均值。\n",
    "\n",
    "* divisor： 除数， 可以自己指定，默认为整个图像的标准差。\n",
    "\n",
    "* nonzero(bool)：  等于True,表示只对图像的非0区域做归一化。\n",
    "\n",
    "* channel_wise(bool)： 当不指定subtrahend和divisor，为True, 表示在每个通道上进行计算均值和标准差，为False,则在整个图像上计算均值和标准差\n"
   ],
   "metadata": {}
  },
  {
   "cell_type": "code",
   "execution_count": 58,
   "source": [
    "norm = NormalizeIntensityd(keys='image',nonzero=False)\n",
    "print(f\"NormalizeIntensityd befor min val:{data_dict['image'].min()}\")\n",
    "print(f\"NormalizeIntensityd befor max val:{data_dict['image'].max()}\")\n",
    "\n",
    "data_dict_norm = norm(data_dict)\n",
    "\n",
    "print(f\"NormalizeIntensityd after min val:{data_dict['image'].min()}\")\n",
    "print(f\"NormalizeIntensityd after max val:{data_dict['image'].max()}\")"
   ],
   "outputs": [
    {
     "output_type": "stream",
     "name": "stdout",
     "text": [
      "NormalizeIntensityd befor min val:-1024.0\n",
      "NormalizeIntensityd befor max val:3072.0\n",
      "NormalizeIntensityd after min val:-1.1914026737213135\n",
      "NormalizeIntensityd after max val:7.314192771911621\n"
     ]
    }
   ],
   "metadata": {}
  },
  {
   "cell_type": "markdown",
   "source": [
    "### ScaleIntensityd\n",
    "* 将输入图像的强度缩放到给定的值范围 (minv, maxv)。如果未提供 minv 和 maxv，则使用因子按 v = v * (1 + 因子) 缩放图像。\n",
    "* minv 默认为 0\n",
    "* maxv 默认为 1 "
   ],
   "metadata": {}
  },
  {
   "cell_type": "code",
   "execution_count": 59,
   "source": [
    "scaleInten = ScaleIntensityd(keys='image')\n",
    "data_dict_s = scaleInten(data_dict)\n",
    "\n",
    "print(f\"NormalizeIntensityd befor min val:{data_dict['image'].min()}\")\n",
    "print(f\"NormalizeIntensityd befor max val:{data_dict['image'].max()}\")\n",
    "\n",
    "print(f\"NormalizeIntensityd after min val:{data_dict_s['image'].min()}\")\n",
    "print(f\"NormalizeIntensityd after max val:{data_dict_s['image'].max()}\")"
   ],
   "outputs": [
    {
     "output_type": "stream",
     "name": "stdout",
     "text": [
      "NormalizeIntensityd befor min val:-1.1914026737213135\n",
      "NormalizeIntensityd befor max val:7.314192771911621\n",
      "NormalizeIntensityd after min val:0.0\n",
      "NormalizeIntensityd after max val:1.0\n"
     ]
    }
   ],
   "metadata": {}
  },
  {
   "cell_type": "markdown",
   "source": [
    "###  ScaleIntensityRanged和NormalizeIntensityd不同之处在于， ScaleIntensityRanged可以指定把哪些范围值缩放到那个区间。\n",
    "\n",
    "比如对脾脏的分割中，我们只在于脾脏的CT值范围（假设在-300-- +300之间），而骨头等高强度的信号（大于2000）我们不需要。如果直\n",
    "\n",
    "接将这个强度进行归一化，脾脏内部的值范围就很小。我们就可以直接把脾脏的CT值范围 [-300,+300] 进行归一化到 [0, 1], 而不在\n",
    "\n",
    "[-300,+300] 这中间的值都为0。事实上，很多论文都是这样做的。\n",
    "\n",
    "#### 参 数 介 绍\n",
    "\n",
    "a_min：float，强度原始范围最小值。可以理解为需要被归一化的最小值，如我们这个例子中的-300(需要写成小数，-300.0)\n",
    "\n",
    "a_max： float， 强度原始范围最大值。可以理解为需要被归一化的最大值，如我们这个例子中的300(需要写成小数，300.0)\n",
    "\n",
    "b_min： float,  强度目标范围最小值。可以理解为归一化后的最小值，通常设置为0.0\n",
    "\n",
    "b_max： float,  强度目标范围最大值。可以理解为归一化后的最大值，通常设置为1.0\n",
    "\n",
    "clip： 布尔值。设置为True, 才会把[-300,+300]之外的值都设置为0.通常为True\n"
   ],
   "metadata": {}
  },
  {
   "cell_type": "code",
   "execution_count": 66,
   "source": [
    "scaleRange = ScaleIntensityRanged(keys='image', a_min=-300.0, a_max=300.0, b_min=0.0, b_max=1.0, clip=True)\n",
    " \n",
    "# 由于上面我们把datac_dict归一化了，因此，我们要重新制造一个datac_dict\n",
    "data_dict1 = loader(train_data_dicts[1])\n",
    "datac_dict1_ad = add_channel(data_dict1)\n",
    "data_dict_sr = scaleRange(datac_dict1_ad)\n",
    "print(data_dict_sr['image'].shape)\n",
    "print('original max value', data_dict1['image'].max())\n",
    "print('original min value', data_dict1['image'].min())\n",
    "print('target max value', data_dict_sr['image'].max())\n"
   ],
   "outputs": [
    {
     "output_type": "stream",
     "name": "stdout",
     "text": [
      "(1, 512, 512, 168)\n",
      "original max value 3072.0\n",
      "original min value -1024.0\n",
      "target max value 1.0\n"
     ]
    }
   ],
   "metadata": {}
  },
  {
   "cell_type": "markdown",
   "source": [
    "## 空间变换 [Rotate90d / Resized]\n",
    "\n",
    "### 注意注意\n",
    "\n",
    "使用旋转，尤其是随机旋转的时候一定要注意，如果是分割，image和label应当一同旋转，并且旋转方式要一模一样。"
   ],
   "metadata": {}
  },
  {
   "cell_type": "code",
   "execution_count": 70,
   "source": [
    "from monai.transforms import RandRotate90d, Resized\n",
    "print(data_dict_sr['image'].shape)\n",
    "rotate = RandRotate90d(keys=['image', 'label'], prob=0.5, max_k=1, spatial_axes=(2,1))\n",
    "data_rotate = rotate(data_dict_sr)\n",
    "print(data_rotate['image'].shape)\n",
    "print(data_rotate['label'].shape)"
   ],
   "outputs": [
    {
     "output_type": "stream",
     "name": "stdout",
     "text": [
      "(1, 512, 512, 168)\n",
      "(1, 512, 168, 512)\n",
      "(1, 512, 168, 512)\n"
     ]
    }
   ],
   "metadata": {}
  },
  {
   "cell_type": "markdown",
   "source": [
    "### Resized\n",
    "参 数 介 绍\n",
    "\n",
    "spatial_size: 序列[int, int,], 期大小调整操作之后的空间尺寸的形状\n",
    "\n",
    "mode: resize使用的插值方式，默认为”area, “可以选择\"nearest\", \"linear\", \"bilinear\", \"bicubic\", \"trilinear\""
   ],
   "metadata": {}
  },
  {
   "cell_type": "code",
   "execution_count": 72,
   "source": [
    "resize = Resized(keys=['image', 'label'], spatial_size=(256,256,256))\n",
    "data_dict_resize = resize(data_rotate)\n",
    "print(data_dict_resize['image'].shape)\n",
    " \n",
    "# (1, 256, 256, 256)"
   ],
   "outputs": [
    {
     "output_type": "stream",
     "name": "stdout",
     "text": [
      "(1, 256, 256, 256)\n"
     ]
    }
   ],
   "metadata": {}
  }
 ],
 "metadata": {
  "orig_nbformat": 4,
  "language_info": {
   "name": "python",
   "version": "3.8.10",
   "mimetype": "text/x-python",
   "codemirror_mode": {
    "name": "ipython",
    "version": 3
   },
   "pygments_lexer": "ipython3",
   "nbconvert_exporter": "python",
   "file_extension": ".py"
  },
  "kernelspec": {
   "name": "python3",
   "display_name": "Python 3.8.10 64-bit ('monaienv': venv)"
  },
  "interpreter": {
   "hash": "41cc7d8094642f0aa3e27d256eb25d3485d313a694ac935cfb444781e1af4b99"
  }
 },
 "nbformat": 4,
 "nbformat_minor": 2
}